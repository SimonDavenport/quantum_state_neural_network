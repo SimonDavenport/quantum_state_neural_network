{
 "cells": [
  {
   "cell_type": "code",
   "execution_count": 1,
   "metadata": {
    "collapsed": false
   },
   "outputs": [],
   "source": [
    "## Check the single layer perceptron implementation\n",
    "import sklearn.neural_network as ann\n",
    "import numpy as np"
   ]
  },
  {
   "cell_type": "code",
   "execution_count": 2,
   "metadata": {
    "collapsed": false
   },
   "outputs": [],
   "source": [
    "def genR(N):\n",
    "    return np.random.random(N)*2-1\n",
    "\n",
    "def genF(N):\n",
    "    return np.arange(N)/N+0.001*(genR(N))\n",
    "\n",
    "N = 20\n",
    "Ntrain = 5\n",
    "P = 2\n",
    "features = np.row_stack([genF(N), genF(N)])\n",
    "        ##genF(N), genF(N), genF(N),\n",
    "        ##                 genF(N), genF(N), genF(N), genF(N),\n",
    "        ##                 genF(N), genF(N), genF(N)])\n",
    "beta = 0.1*genR(P)\n",
    "outputs = np.dot(beta, features)\n",
    "\n",
    "np.savetxt('test_features.dat', features, delimiter='\\n')\n",
    "np.savetxt('test_outputs.dat', outputs, delimiter='\\n')"
   ]
  },
  {
   "cell_type": "code",
   "execution_count": 12,
   "metadata": {
    "collapsed": false
   },
   "outputs": [
    {
     "data": {
      "text/plain": [
       "0.01724828612019657"
      ]
     },
     "execution_count": 12,
     "metadata": {},
     "output_type": "execute_result"
    }
   ],
   "source": [
    "hidden_layer_sizes = (10,)\n",
    "activation = 'logistic'\n",
    "solver = 'lbfgs'\n",
    "alpha = 0.0\n",
    "\n",
    "slp = ann.MLPRegressor(hidden_layer_sizes, activation,\n",
    "                       solver, alpha)\n",
    "\n",
    "slp.fit(features.T[:Ntrain], outputs[:Ntrain])\n",
    "\n",
    "predictions = slp.predict(features.T)\n",
    "np.sum((predictions-outputs)**2)"
   ]
  },
  {
   "cell_type": "code",
   "execution_count": 34,
   "metadata": {
    "collapsed": false
   },
   "outputs": [],
   "source": [
    "np.savetxt('test_starting.dat', np.concatenate([slp.coefs_[0].flatten(), slp.coefs_[1].flatten()]), delimiter='\\n')"
   ]
  },
  {
   "cell_type": "code",
   "execution_count": 19,
   "metadata": {
    "collapsed": false
   },
   "outputs": [
    {
     "data": {
      "text/plain": [
       "array([-0.00296935, -0.00342867, -0.00395249, -0.00449886, -0.00492584,\n",
       "       -0.00551593, -0.00614152, -0.00658043, -0.00715565, -0.00761659,\n",
       "       -0.00824535, -0.00883502, -0.00939231, -0.00990193, -0.01047564,\n",
       "       -0.01099969, -0.01166558, -0.01220827, -0.01268879, -0.01337196])"
      ]
     },
     "execution_count": 19,
     "metadata": {},
     "output_type": "execute_result"
    }
   ],
   "source": [
    "predictions"
   ]
  },
  {
   "cell_type": "code",
   "execution_count": 14,
   "metadata": {
    "collapsed": false
   },
   "outputs": [
    {
     "data": {
      "text/plain": [
       "array([[ -8.68509934e-05,   5.03240831e-02,   9.93597608e-02,\n",
       "          1.49959718e-01,   1.99069099e-01,   2.50234296e-01,\n",
       "          3.00695424e-01,   3.49688519e-01,   3.99034955e-01,\n",
       "          4.49135777e-01,   5.00057300e-01,   5.49115041e-01,\n",
       "          5.99495331e-01,   6.50064499e-01,   6.99677289e-01,\n",
       "          7.50453257e-01,   7.99001503e-01,   8.49676227e-01,\n",
       "          8.99460026e-01,   9.49483121e-01],\n",
       "       [ -4.96912553e-04,   4.99808755e-02,   9.94038731e-02,\n",
       "          1.49848352e-01,   2.00443632e-01,   2.50952441e-01,\n",
       "          2.99060784e-01,   3.49974932e-01,   3.99299951e-01,\n",
       "          4.50869192e-01,   4.99976010e-01,   5.50544218e-01,\n",
       "          6.00124572e-01,   6.50724232e-01,   6.99167247e-01,\n",
       "          7.50924211e-01,   7.99856603e-01,   8.49642665e-01,\n",
       "          8.99543385e-01,   9.49791094e-01]])"
      ]
     },
     "execution_count": 14,
     "metadata": {},
     "output_type": "execute_result"
    }
   ],
   "source": [
    "features"
   ]
  },
  {
   "cell_type": "code",
   "execution_count": 75,
   "metadata": {
    "collapsed": false
   },
   "outputs": [],
   "source": [
    "import matplotlib.pyplot as plt\n",
    "from mpl_toolkits.mplot3d import Axes3D\n",
    "fig = plt.figure()\n",
    "ax = fig.add_subplot(111, projection='3d')\n",
    "ax.scatter(features[0], features[1], outputs)\n",
    "ax.scatter(features[0], features[1], predictions, color='red')\n",
    "plt.show()"
   ]
  },
  {
   "cell_type": "code",
   "execution_count": 87,
   "metadata": {
    "collapsed": false
   },
   "outputs": [
    {
     "data": {
      "text/plain": [
       "0.00343272235"
      ]
     },
     "execution_count": 87,
     "metadata": {},
     "output_type": "execute_result"
    }
   ],
   "source": [
    "0.5*(-2.24903e-05+0.000649785+0.00139293+0.0020491+0.00279612)"
   ]
  },
  {
   "cell_type": "code",
   "execution_count": 90,
   "metadata": {
    "collapsed": false
   },
   "outputs": [
    {
     "data": {
      "text/plain": [
       "0.003119075"
      ]
     },
     "execution_count": 90,
     "metadata": {},
     "output_type": "execute_result"
    }
   ],
   "source": [
    "0.5*(0.00139293+0.0020491+0.00279612)"
   ]
  },
  {
   "cell_type": "code",
   "execution_count": null,
   "metadata": {
    "collapsed": true
   },
   "outputs": [],
   "source": []
  }
 ],
 "metadata": {
  "kernelspec": {
   "display_name": "Python 3",
   "language": "python",
   "name": "python3"
  },
  "language_info": {
   "codemirror_mode": {
    "name": "ipython",
    "version": 3
   },
   "file_extension": ".py",
   "mimetype": "text/x-python",
   "name": "python",
   "nbconvert_exporter": "python",
   "pygments_lexer": "ipython3",
   "version": "3.4.3"
  }
 },
 "nbformat": 4,
 "nbformat_minor": 0
}
