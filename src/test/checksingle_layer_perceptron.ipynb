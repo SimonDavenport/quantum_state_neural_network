{
 "cells": [
  {
   "cell_type": "code",
   "execution_count": 1,
   "metadata": {
    "collapsed": false
   },
   "outputs": [],
   "source": [
    "## Check the single layer perceptron implementation\n",
    "import sklearn.neural_network as ann\n",
    "import numpy as np"
   ]
  },
  {
   "cell_type": "code",
   "execution_count": 2,
   "metadata": {
    "collapsed": false
   },
   "outputs": [],
   "source": [
    "def genR(N):\n",
    "    return np.random.random(N)*2-1\n",
    "\n",
    "def genF(N):\n",
    "    return np.arange(N)/N+0.001*(genR(N))\n",
    "\n",
    "N = 20\n",
    "Ntrain = 5\n",
    "P = 2\n",
    "features = np.row_stack([genF(N), genF(N)])\n",
    "        ##genF(N), genF(N), genF(N),\n",
    "        ##                 genF(N), genF(N), genF(N), genF(N),\n",
    "        ##                 genF(N), genF(N), genF(N)])\n",
    "beta = 0.1*genR(P)\n",
    "outputs = np.dot(beta, features)\n",
    "\n",
    "np.savetxt('test_features.dat', features, delimiter='\\n')\n",
    "np.savetxt('test_outputs.dat', outputs, delimiter='\\n')"
   ]
  },
  {
   "cell_type": "code",
   "execution_count": 37,
   "metadata": {
    "collapsed": false
   },
   "outputs": [
    {
     "data": {
      "text/plain": [
       "0.00056236463405122145"
      ]
     },
     "execution_count": 37,
     "metadata": {},
     "output_type": "execute_result"
    }
   ],
   "source": [
    "hidden_layer_sizes = (10,)\n",
    "activation = 'logistic'\n",
    "solver = 'lbfgs'\n",
    "alpha = 0.0\n",
    "\n",
    "slp = ann.MLPRegressor(hidden_layer_sizes, activation,\n",
    "                       solver, alpha)\n",
    "\n",
    "slp.fit(features.T[:Ntrain], outputs[:Ntrain])\n",
    "\n",
    "predictions = slp.predict(features.T)\n",
    "np.sum((predictions-outputs)**2)"
   ]
  },
  {
   "cell_type": "code",
   "execution_count": 46,
   "metadata": {
    "collapsed": false
   },
   "outputs": [
    {
     "data": {
      "text/plain": [
       "[array([[ 0.36475506,  0.32936209, -0.30034401, -0.03837287, -0.11228597,\n",
       "         -0.10590716,  0.32378843,  0.1388795 , -0.35671973,  0.3729059 ],\n",
       "        [ 0.23994701,  0.27131302, -0.27721972,  0.02964724,  0.21391469,\n",
       "          0.27491315, -0.19445452, -0.3580211 ,  0.07872436, -0.25239263]]),\n",
       " array([[-0.23043272],\n",
       "        [-0.13940985],\n",
       "        [ 0.01150595],\n",
       "        [-0.04549845],\n",
       "        [-0.01995571],\n",
       "        [ 0.38977472],\n",
       "        [ 0.02864498],\n",
       "        [-0.11320513],\n",
       "        [ 0.02406866],\n",
       "        [ 0.0843454 ]])]"
      ]
     },
     "execution_count": 46,
     "metadata": {},
     "output_type": "execute_result"
    }
   ],
   "source": [
    "slp.coefs_"
   ]
  },
  {
   "cell_type": "code",
   "execution_count": 39,
   "metadata": {
    "collapsed": false
   },
   "outputs": [],
   "source": [
    "np.savetxt('test_starting.dat', np.concatenate([slp.coefs_[0].T.flatten(), slp.coefs_[1].flatten()]), delimiter='\\n')"
   ]
  },
  {
   "cell_type": "code",
   "execution_count": 45,
   "metadata": {
    "collapsed": false
   },
   "outputs": [
    {
     "data": {
      "text/plain": [
       "array([-0.00097028, -0.00267174, -0.0043213 , -0.00602068, -0.00765573,\n",
       "       -0.00936173, -0.01104359, -0.01264567, -0.01425797, -0.01587452,\n",
       "       -0.01752104, -0.01907509, -0.02066809, -0.02224507, -0.02378155,\n",
       "       -0.02532156, -0.02677793, -0.02828535, -0.02973809, -0.03117436])"
      ]
     },
     "execution_count": 45,
     "metadata": {},
     "output_type": "execute_result"
    }
   ],
   "source": [
    "predictions"
   ]
  },
  {
   "cell_type": "code",
   "execution_count": 44,
   "metadata": {
    "collapsed": false
   },
   "outputs": [
    {
     "data": {
      "text/plain": [
       "array([ -6.02201880e-07,  -2.18857264e-03,  -4.31341625e-03,\n",
       "        -6.51196450e-03,  -8.62829255e-03,  -1.08567235e-02,\n",
       "        -1.30726768e-02,  -1.51793155e-02,  -1.73220102e-02,\n",
       "        -1.94815699e-02,  -2.17117739e-02,  -2.38255979e-02,\n",
       "        -2.60214815e-02,  -2.82167098e-02,  -3.03832150e-02,\n",
       "        -3.25772855e-02,  -3.46810001e-02,  -3.68906133e-02,\n",
       "        -3.90508216e-02,  -4.12202709e-02])"
      ]
     },
     "execution_count": 44,
     "metadata": {},
     "output_type": "execute_result"
    }
   ],
   "source": [
    "outputs"
   ]
  },
  {
   "cell_type": "code",
   "execution_count": 50,
   "metadata": {
    "collapsed": false
   },
   "outputs": [
    {
     "data": {
      "text/plain": [
       "[array([[ 0.36475506,  0.32936209, -0.30034401, -0.03837287, -0.11228597,\n",
       "         -0.10590716,  0.32378843,  0.1388795 , -0.35671973,  0.3729059 ],\n",
       "        [ 0.23994701,  0.27131302, -0.27721972,  0.02964724,  0.21391469,\n",
       "          0.27491315, -0.19445452, -0.3580211 ,  0.07872436, -0.25239263]]),\n",
       " array([[-0.23043272],\n",
       "        [-0.13940985],\n",
       "        [ 0.01150595],\n",
       "        [-0.04549845],\n",
       "        [-0.01995571],\n",
       "        [ 0.38977472],\n",
       "        [ 0.02864498],\n",
       "        [-0.11320513],\n",
       "        [ 0.02406866],\n",
       "        [ 0.0843454 ]])]"
      ]
     },
     "execution_count": 50,
     "metadata": {},
     "output_type": "execute_result"
    }
   ],
   "source": [
    "slp.coefs_"
   ]
  },
  {
   "cell_type": "code",
   "execution_count": 48,
   "metadata": {
    "collapsed": false
   },
   "outputs": [
    {
     "data": {
      "text/plain": [
       "[array([ 0.08038026,  0.02153182,  0.08616298,  0.10521527,  0.21466815,\n",
       "        -0.29889485,  0.37190552, -0.24228942,  0.09181965,  0.06372645]),\n",
       " array([ 0.02906137])]"
      ]
     },
     "execution_count": 48,
     "metadata": {},
     "output_type": "execute_result"
    }
   ],
   "source": [
    "slp.intercepts_"
   ]
  },
  {
   "cell_type": "code",
   "execution_count": 75,
   "metadata": {
    "collapsed": false
   },
   "outputs": [],
   "source": [
    "import matplotlib.pyplot as plt\n",
    "from mpl_toolkits.mplot3d import Axes3D\n",
    "fig = plt.figure()\n",
    "ax = fig.add_subplot(111, projection='3d')\n",
    "ax.scatter(features[0], features[1], outputs)\n",
    "ax.scatter(features[0], features[1], predictions, color='red')\n",
    "plt.show()"
   ]
  },
  {
   "cell_type": "code",
   "execution_count": 87,
   "metadata": {
    "collapsed": false
   },
   "outputs": [
    {
     "data": {
      "text/plain": [
       "0.00343272235"
      ]
     },
     "execution_count": 87,
     "metadata": {},
     "output_type": "execute_result"
    }
   ],
   "source": [
    "0.5*(-2.24903e-05+0.000649785+0.00139293+0.0020491+0.00279612)"
   ]
  },
  {
   "cell_type": "code",
   "execution_count": 90,
   "metadata": {
    "collapsed": false
   },
   "outputs": [
    {
     "data": {
      "text/plain": [
       "0.003119075"
      ]
     },
     "execution_count": 90,
     "metadata": {},
     "output_type": "execute_result"
    }
   ],
   "source": [
    "0.5*(0.00139293+0.0020491+0.00279612)"
   ]
  },
  {
   "cell_type": "code",
   "execution_count": null,
   "metadata": {
    "collapsed": true
   },
   "outputs": [],
   "source": []
  }
 ],
 "metadata": {
  "kernelspec": {
   "display_name": "Python 3",
   "language": "python",
   "name": "python3"
  },
  "language_info": {
   "codemirror_mode": {
    "name": "ipython",
    "version": 3
   },
   "file_extension": ".py",
   "mimetype": "text/x-python",
   "name": "python",
   "nbconvert_exporter": "python",
   "pygments_lexer": "ipython3",
   "version": "3.4.3"
  }
 },
 "nbformat": 4,
 "nbformat_minor": 0
}
