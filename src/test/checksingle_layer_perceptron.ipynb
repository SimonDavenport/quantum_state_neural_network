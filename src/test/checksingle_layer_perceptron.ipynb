{
 "cells": [
  {
   "cell_type": "code",
   "execution_count": 1,
   "metadata": {
    "collapsed": false
   },
   "outputs": [],
   "source": [
    "## Check the single layer perceptron implementation\n",
    "import sklearn.neural_network as ann\n",
    "import numpy as np"
   ]
  },
  {
   "cell_type": "code",
   "execution_count": 164,
   "metadata": {
    "collapsed": false
   },
   "outputs": [],
   "source": [
    "def genR(N):\n",
    "    return np.random.random(N)*2-1\n",
    "\n",
    "def genF(N):\n",
    "    return np.arange(N)/N+0.001*(genR(N))\n",
    "\n",
    "N = 20\n",
    "P = 3\n",
    "features = np.row_stack([genF(N), genF(N), np.ones(N)])\n",
    "        ##genF(N), genF(N), genF(N),\n",
    "        ##                 genF(N), genF(N), genF(N), genF(N),\n",
    "        ##                 genF(N), genF(N), genF(N)])\n",
    "beta = 0.1*genR(P)\n",
    "outputs = np.dot(beta, features)"
   ]
  },
  {
   "cell_type": "code",
   "execution_count": 226,
   "metadata": {
    "collapsed": true
   },
   "outputs": [],
   "source": [
    "np.savetxt('test_features.dat', features.T, delimiter='\\n')\n",
    "np.savetxt('test_outputs.dat', outputs, delimiter='\\n')"
   ]
  },
  {
   "cell_type": "code",
   "execution_count": 270,
   "metadata": {
    "collapsed": false
   },
   "outputs": [
    {
     "data": {
      "text/plain": [
       "0.050579137890142574"
      ]
     },
     "execution_count": 270,
     "metadata": {},
     "output_type": "execute_result"
    }
   ],
   "source": [
    "N = 20\n",
    "Ntrain = 5\n",
    "P = 2\n",
    "hidden_layer_sizes = (10,)\n",
    "activation = 'logistic'\n",
    "solver = 'lbfgs'\n",
    "alpha = 0.0\n",
    "features_ = features[:P]\n",
    "\n",
    "slp = ann.MLPRegressor(hidden_layer_sizes, activation,\n",
    "                       solver, alpha)\n",
    "\n",
    "slp.fit(features_.T[:Ntrain], outputs[:Ntrain])\n",
    "\n",
    "predictions = slp.predict(features_.T)\n",
    "np.sum((predictions-outputs)**2)"
   ]
  },
  {
   "cell_type": "code",
   "execution_count": 190,
   "metadata": {
    "collapsed": false
   },
   "outputs": [
    {
     "data": {
      "text/plain": [
       "array([-0.03698356, -0.03343392, -0.02998364, -0.02635184, -0.02286483,\n",
       "       -0.01935199, -0.01580775, -0.01221157, -0.0086835 , -0.00526174,\n",
       "       -0.00173164,  0.00182495,  0.00536214,  0.00892756,  0.01242477,\n",
       "        0.0159338 ,  0.01938308,  0.02283704,  0.02630612,  0.02980281])"
      ]
     },
     "execution_count": 190,
     "metadata": {},
     "output_type": "execute_result"
    }
   ],
   "source": [
    "predictions"
   ]
  },
  {
   "cell_type": "code",
   "execution_count": 271,
   "metadata": {
    "collapsed": false
   },
   "outputs": [],
   "source": [
    "np.savetxt('test_starting.dat', np.concatenate([np.concatenate([slp.coefs_[0].flatten(), slp.intercepts_[0]]).reshape(P+1, hidden_layer_sizes[0]).flatten(),  \n",
    "                                                slp.coefs_[1].flatten(), slp.intercepts_[1]]), delimiter='\\n')"
   ]
  },
  {
   "cell_type": "code",
   "execution_count": 75,
   "metadata": {
    "collapsed": false
   },
   "outputs": [],
   "source": [
    "import matplotlib.pyplot as plt\n",
    "from mpl_toolkits.mplot3d import Axes3D\n",
    "fig = plt.figure()\n",
    "ax = fig.add_subplot(111, projection='3d')\n",
    "ax.scatter(features[0], features[1], outputs)\n",
    "ax.scatter(features[0], features[1], predictions, color='red')\n",
    "plt.show()"
   ]
  },
  {
   "cell_type": "code",
   "execution_count": null,
   "metadata": {
    "collapsed": true
   },
   "outputs": [],
   "source": []
  }
 ],
 "metadata": {
  "kernelspec": {
   "display_name": "Python 3",
   "language": "python",
   "name": "python3"
  },
  "language_info": {
   "codemirror_mode": {
    "name": "ipython",
    "version": 3
   },
   "file_extension": ".py",
   "mimetype": "text/x-python",
   "name": "python",
   "nbconvert_exporter": "python",
   "pygments_lexer": "ipython3",
   "version": "3.4.3"
  }
 },
 "nbformat": 4,
 "nbformat_minor": 0
}
